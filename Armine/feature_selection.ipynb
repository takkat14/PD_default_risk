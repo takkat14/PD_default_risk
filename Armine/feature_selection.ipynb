{
 "cells": [
  {
   "cell_type": "code",
   "execution_count": 3,
   "outputs": [],
   "source": [
    "import pandas as pd\n",
    "import numpy as np"
   ],
   "metadata": {
    "collapsed": false,
    "pycharm": {
     "name": "#%%\n"
    }
   }
  },
  {
   "cell_type": "code",
   "execution_count": 2,
   "outputs": [
    {
     "name": "stderr",
     "output_type": "stream",
     "text": [
      "/var/folders/fd/wgp9jk8x1msd6_yg7qnrxj0r0000gn/T/ipykernel_17940/704578018.py:1: DtypeWarning: Columns (0,19,49,59,118,129,130,131,134,135,136,139,145,146,147) have mixed types. Specify dtype option on import or set low_memory=False.\n",
      "  df = pd.read_csv('../data/accepted_2007_to_2018Q4.csv', sep=\",\")\n"
     ]
    }
   ],
   "source": [
    "df = pd.read_csv('../data/accepted_2007_to_2018Q4.csv', sep=\",\")"
   ],
   "metadata": {
    "collapsed": false,
    "pycharm": {
     "name": "#%%\n"
    }
   }
  },
  {
   "cell_type": "code",
   "execution_count": 11,
   "outputs": [],
   "source": [
    "def features_generation(df_as_is):\n",
    "    df = df_as_is.copy()\n",
    "    df[\"default\"] = np.where(df.loan_status.isin(['Fully Paid', 'Charged Off']), 1, 0)\n",
    "    df['income_final'] = np.where(df['application_type']=='Joint App',df['annual_inc_joint'],df['annual_inc'])\n",
    "    df['DTI_final'] = np.where(df['application_type']=='Joint App',df['dti_joint'],df['dti'])\n",
    "#     df['verification_status_final'] = np.where(df['application_type']=='Joint App',df['verification_status_joint'],df['verification_status'])\n",
    "    #Соотношение между DTI основного заемщика и общим\n",
    "    df['DTI_ratio'] = df['DTI_final']/df['dti']\n",
    "\n",
    "    df['obligations_final'] = df['DTI_final']*df['income_final']/12#annual->month\n",
    "\n",
    "    #считаем всякие соотношения\n",
    "#     df['new_obligations_share'] =df['installment']/df['obligations_final'\n",
    "    df['obligations2bal'] = df['obligations_final']/df['avg_cur_bal']\n",
    "#     df['installment2bal'] = df['installment']/df['avg_cur_bal']\n",
    "\n",
    "    #смотрим, с какой точностью указан доход\n",
    "    df['annual_inc_f'] = np.where(df['income_final'] % 1000 ==0,0,1)\n",
    "\n",
    "    #восстанавливаем даты и считаем глубину КИ\n",
    "    df['earliest_cr_line'] = pd.to_datetime('1-'+df.earliest_cr_line, format='%d-%b-%Y')\n",
    "    df['issue_d'] = pd.to_datetime('1-'+df.issue_d, format='%d-%b-%Y')\n",
    "    df['CH_duration'] = round((df['issue_d']-df['earliest_cr_line'])/np.timedelta64(1,'M'),0)\n",
    "    df['CH2Emp'] = round((df['issue_d']-df['earliest_cr_line'])/np.timedelta64(1,'Y'),\n",
    "                              0)/(np.where(df['emp_length']=='< 1 year',0,df['emp_length'].str[0:1]).astype('float'))\n",
    "    #делаем таргет бинарным\n",
    "    df['default'] = np.where(df['default']==True,1,0)\n",
    "\n",
    "    #zip_code\n",
    "    df['zip_code_2sign'] = df['zip_code'].str[0:2]\n",
    "    df['zip_code_1sign'] = df['zip_code'].str[0:1]\n",
    "\n",
    "    #pub_rec\n",
    "    df['pub_rec_total'] = df['pub_rec_bankruptcies']+df['pub_rec']\n",
    "\n",
    "    #desc&emp_title\n",
    "    df['desc_f'] = np.where(df['desc'].notnull(),1,0)\n",
    "    df['emp_title_f'] = np.where(df['emp_title'].notnull(),1,0)\n",
    "    df['title_f'] = np.where(df['title'].notnull(),1,0)\n",
    "\n",
    "    #inq2CH\n",
    "    df['inq2CH'] = df['inq_last_6mths']/df['CH_duration']\n",
    "\n",
    "    #purpose and disbursement_method\n",
    "    df['purpose_disbursement_method'] = df['disbursement_method']+'_'+df['purpose']\n",
    "    return(df)"
   ],
   "metadata": {
    "collapsed": false,
    "pycharm": {
     "name": "#%%\n"
    }
   }
  },
  {
   "cell_type": "code",
   "execution_count": 12,
   "outputs": [],
   "source": [
    "head_df = df[:100]\n",
    "head_df = features_generation(head_df)"
   ],
   "metadata": {
    "collapsed": false,
    "pycharm": {
     "name": "#%%\n"
    }
   }
  },
  {
   "cell_type": "code",
   "execution_count": 10,
   "outputs": [
    {
     "data": {
      "text/plain": "               id  member_id  loan_amnt  funded_amnt  funded_amnt_inv  \\\n0        68407277        NaN     3600.0       3600.0           3600.0   \n1        68355089        NaN    24700.0      24700.0          24700.0   \n2        68341763        NaN    20000.0      20000.0          20000.0   \n4        68476807        NaN    10400.0      10400.0          10400.0   \n5        68426831        NaN    11950.0      11950.0          11950.0   \n...           ...        ...        ...          ...              ...   \n2260688  89905081        NaN    18000.0      18000.0          18000.0   \n2260690  88948836        NaN    29400.0      29400.0          29400.0   \n2260691  89996426        NaN    32000.0      32000.0          32000.0   \n2260692  90006534        NaN    16000.0      16000.0          16000.0   \n2260697  88224441        NaN    24000.0      24000.0          24000.0   \n\n               term  int_rate  installment grade sub_grade  ...  \\\n0         36 months     13.99       123.03     C        C4  ...   \n1         36 months     11.99       820.28     C        C1  ...   \n2         60 months     10.78       432.66     B        B4  ...   \n4         60 months     22.45       289.91     F        F1  ...   \n5         36 months     13.44       405.18     C        C3  ...   \n...             ...       ...          ...   ...       ...  ...   \n2260688   60 months      9.49       377.95     B        B2  ...   \n2260690   60 months     13.99       683.94     C        C3  ...   \n2260691   60 months     14.49       752.74     C        C4  ...   \n2260692   60 months     12.79       362.34     C        C1  ...   \n2260697   60 months     14.49       564.56     C        C4  ...   \n\n        hardship_payoff_balance_amount hardship_last_payment_amount  \\\n0                                  NaN                          NaN   \n1                                  NaN                          NaN   \n2                                  NaN                          NaN   \n4                                  NaN                          NaN   \n5                                  NaN                          NaN   \n...                                ...                          ...   \n2260688                            NaN                          NaN   \n2260690                            NaN                          NaN   \n2260691                            NaN                          NaN   \n2260692                            NaN                          NaN   \n2260697                            NaN                          NaN   \n\n        disbursement_method  debt_settlement_flag debt_settlement_flag_date  \\\n0                      Cash                     N                       NaN   \n1                      Cash                     N                       NaN   \n2                      Cash                     N                       NaN   \n4                      Cash                     N                       NaN   \n5                      Cash                     N                       NaN   \n...                     ...                   ...                       ...   \n2260688                Cash                     N                       NaN   \n2260690                Cash                     N                       NaN   \n2260691                Cash                     N                       NaN   \n2260692                Cash                     N                       NaN   \n2260697                Cash                     Y                  Mar-2019   \n\n        settlement_status settlement_date settlement_amount  \\\n0                     NaN             NaN               NaN   \n1                     NaN             NaN               NaN   \n2                     NaN             NaN               NaN   \n4                     NaN             NaN               NaN   \n5                     NaN             NaN               NaN   \n...                   ...             ...               ...   \n2260688               NaN             NaN               NaN   \n2260690               NaN             NaN               NaN   \n2260691               NaN             NaN               NaN   \n2260692               NaN             NaN               NaN   \n2260697            ACTIVE        Mar-2019           10000.0   \n\n        settlement_percentage settlement_term  \n0                         NaN             NaN  \n1                         NaN             NaN  \n2                         NaN             NaN  \n4                         NaN             NaN  \n5                         NaN             NaN  \n...                       ...             ...  \n2260688                   NaN             NaN  \n2260690                   NaN             NaN  \n2260691                   NaN             NaN  \n2260692                   NaN             NaN  \n2260697                 44.82             1.0  \n\n[1345310 rows x 151 columns]",
      "text/html": "<div>\n<style scoped>\n    .dataframe tbody tr th:only-of-type {\n        vertical-align: middle;\n    }\n\n    .dataframe tbody tr th {\n        vertical-align: top;\n    }\n\n    .dataframe thead th {\n        text-align: right;\n    }\n</style>\n<table border=\"1\" class=\"dataframe\">\n  <thead>\n    <tr style=\"text-align: right;\">\n      <th></th>\n      <th>id</th>\n      <th>member_id</th>\n      <th>loan_amnt</th>\n      <th>funded_amnt</th>\n      <th>funded_amnt_inv</th>\n      <th>term</th>\n      <th>int_rate</th>\n      <th>installment</th>\n      <th>grade</th>\n      <th>sub_grade</th>\n      <th>...</th>\n      <th>hardship_payoff_balance_amount</th>\n      <th>hardship_last_payment_amount</th>\n      <th>disbursement_method</th>\n      <th>debt_settlement_flag</th>\n      <th>debt_settlement_flag_date</th>\n      <th>settlement_status</th>\n      <th>settlement_date</th>\n      <th>settlement_amount</th>\n      <th>settlement_percentage</th>\n      <th>settlement_term</th>\n    </tr>\n  </thead>\n  <tbody>\n    <tr>\n      <th>0</th>\n      <td>68407277</td>\n      <td>NaN</td>\n      <td>3600.0</td>\n      <td>3600.0</td>\n      <td>3600.0</td>\n      <td>36 months</td>\n      <td>13.99</td>\n      <td>123.03</td>\n      <td>C</td>\n      <td>C4</td>\n      <td>...</td>\n      <td>NaN</td>\n      <td>NaN</td>\n      <td>Cash</td>\n      <td>N</td>\n      <td>NaN</td>\n      <td>NaN</td>\n      <td>NaN</td>\n      <td>NaN</td>\n      <td>NaN</td>\n      <td>NaN</td>\n    </tr>\n    <tr>\n      <th>1</th>\n      <td>68355089</td>\n      <td>NaN</td>\n      <td>24700.0</td>\n      <td>24700.0</td>\n      <td>24700.0</td>\n      <td>36 months</td>\n      <td>11.99</td>\n      <td>820.28</td>\n      <td>C</td>\n      <td>C1</td>\n      <td>...</td>\n      <td>NaN</td>\n      <td>NaN</td>\n      <td>Cash</td>\n      <td>N</td>\n      <td>NaN</td>\n      <td>NaN</td>\n      <td>NaN</td>\n      <td>NaN</td>\n      <td>NaN</td>\n      <td>NaN</td>\n    </tr>\n    <tr>\n      <th>2</th>\n      <td>68341763</td>\n      <td>NaN</td>\n      <td>20000.0</td>\n      <td>20000.0</td>\n      <td>20000.0</td>\n      <td>60 months</td>\n      <td>10.78</td>\n      <td>432.66</td>\n      <td>B</td>\n      <td>B4</td>\n      <td>...</td>\n      <td>NaN</td>\n      <td>NaN</td>\n      <td>Cash</td>\n      <td>N</td>\n      <td>NaN</td>\n      <td>NaN</td>\n      <td>NaN</td>\n      <td>NaN</td>\n      <td>NaN</td>\n      <td>NaN</td>\n    </tr>\n    <tr>\n      <th>4</th>\n      <td>68476807</td>\n      <td>NaN</td>\n      <td>10400.0</td>\n      <td>10400.0</td>\n      <td>10400.0</td>\n      <td>60 months</td>\n      <td>22.45</td>\n      <td>289.91</td>\n      <td>F</td>\n      <td>F1</td>\n      <td>...</td>\n      <td>NaN</td>\n      <td>NaN</td>\n      <td>Cash</td>\n      <td>N</td>\n      <td>NaN</td>\n      <td>NaN</td>\n      <td>NaN</td>\n      <td>NaN</td>\n      <td>NaN</td>\n      <td>NaN</td>\n    </tr>\n    <tr>\n      <th>5</th>\n      <td>68426831</td>\n      <td>NaN</td>\n      <td>11950.0</td>\n      <td>11950.0</td>\n      <td>11950.0</td>\n      <td>36 months</td>\n      <td>13.44</td>\n      <td>405.18</td>\n      <td>C</td>\n      <td>C3</td>\n      <td>...</td>\n      <td>NaN</td>\n      <td>NaN</td>\n      <td>Cash</td>\n      <td>N</td>\n      <td>NaN</td>\n      <td>NaN</td>\n      <td>NaN</td>\n      <td>NaN</td>\n      <td>NaN</td>\n      <td>NaN</td>\n    </tr>\n    <tr>\n      <th>...</th>\n      <td>...</td>\n      <td>...</td>\n      <td>...</td>\n      <td>...</td>\n      <td>...</td>\n      <td>...</td>\n      <td>...</td>\n      <td>...</td>\n      <td>...</td>\n      <td>...</td>\n      <td>...</td>\n      <td>...</td>\n      <td>...</td>\n      <td>...</td>\n      <td>...</td>\n      <td>...</td>\n      <td>...</td>\n      <td>...</td>\n      <td>...</td>\n      <td>...</td>\n      <td>...</td>\n    </tr>\n    <tr>\n      <th>2260688</th>\n      <td>89905081</td>\n      <td>NaN</td>\n      <td>18000.0</td>\n      <td>18000.0</td>\n      <td>18000.0</td>\n      <td>60 months</td>\n      <td>9.49</td>\n      <td>377.95</td>\n      <td>B</td>\n      <td>B2</td>\n      <td>...</td>\n      <td>NaN</td>\n      <td>NaN</td>\n      <td>Cash</td>\n      <td>N</td>\n      <td>NaN</td>\n      <td>NaN</td>\n      <td>NaN</td>\n      <td>NaN</td>\n      <td>NaN</td>\n      <td>NaN</td>\n    </tr>\n    <tr>\n      <th>2260690</th>\n      <td>88948836</td>\n      <td>NaN</td>\n      <td>29400.0</td>\n      <td>29400.0</td>\n      <td>29400.0</td>\n      <td>60 months</td>\n      <td>13.99</td>\n      <td>683.94</td>\n      <td>C</td>\n      <td>C3</td>\n      <td>...</td>\n      <td>NaN</td>\n      <td>NaN</td>\n      <td>Cash</td>\n      <td>N</td>\n      <td>NaN</td>\n      <td>NaN</td>\n      <td>NaN</td>\n      <td>NaN</td>\n      <td>NaN</td>\n      <td>NaN</td>\n    </tr>\n    <tr>\n      <th>2260691</th>\n      <td>89996426</td>\n      <td>NaN</td>\n      <td>32000.0</td>\n      <td>32000.0</td>\n      <td>32000.0</td>\n      <td>60 months</td>\n      <td>14.49</td>\n      <td>752.74</td>\n      <td>C</td>\n      <td>C4</td>\n      <td>...</td>\n      <td>NaN</td>\n      <td>NaN</td>\n      <td>Cash</td>\n      <td>N</td>\n      <td>NaN</td>\n      <td>NaN</td>\n      <td>NaN</td>\n      <td>NaN</td>\n      <td>NaN</td>\n      <td>NaN</td>\n    </tr>\n    <tr>\n      <th>2260692</th>\n      <td>90006534</td>\n      <td>NaN</td>\n      <td>16000.0</td>\n      <td>16000.0</td>\n      <td>16000.0</td>\n      <td>60 months</td>\n      <td>12.79</td>\n      <td>362.34</td>\n      <td>C</td>\n      <td>C1</td>\n      <td>...</td>\n      <td>NaN</td>\n      <td>NaN</td>\n      <td>Cash</td>\n      <td>N</td>\n      <td>NaN</td>\n      <td>NaN</td>\n      <td>NaN</td>\n      <td>NaN</td>\n      <td>NaN</td>\n      <td>NaN</td>\n    </tr>\n    <tr>\n      <th>2260697</th>\n      <td>88224441</td>\n      <td>NaN</td>\n      <td>24000.0</td>\n      <td>24000.0</td>\n      <td>24000.0</td>\n      <td>60 months</td>\n      <td>14.49</td>\n      <td>564.56</td>\n      <td>C</td>\n      <td>C4</td>\n      <td>...</td>\n      <td>NaN</td>\n      <td>NaN</td>\n      <td>Cash</td>\n      <td>Y</td>\n      <td>Mar-2019</td>\n      <td>ACTIVE</td>\n      <td>Mar-2019</td>\n      <td>10000.0</td>\n      <td>44.82</td>\n      <td>1.0</td>\n    </tr>\n  </tbody>\n</table>\n<p>1345310 rows × 151 columns</p>\n</div>"
     },
     "execution_count": 10,
     "metadata": {},
     "output_type": "execute_result"
    }
   ],
   "source": [
    "df.loc[df.loan_status.isin(['Fully Paid', 'Charged Off']), : ]"
   ],
   "metadata": {
    "collapsed": false,
    "pycharm": {
     "name": "#%%\n"
    }
   }
  },
  {
   "cell_type": "code",
   "execution_count": 13,
   "outputs": [
    {
     "data": {
      "text/plain": "          id  member_id  loan_amnt  funded_amnt  funded_amnt_inv        term  \\\n0   68407277        NaN     3600.0       3600.0           3600.0   36 months   \n1   68355089        NaN    24700.0      24700.0          24700.0   36 months   \n2   68341763        NaN    20000.0      20000.0          20000.0   60 months   \n3   66310712        NaN    35000.0      35000.0          35000.0   60 months   \n4   68476807        NaN    10400.0      10400.0          10400.0   60 months   \n..       ...        ...        ...          ...              ...         ...   \n95  68537564        NaN     8000.0       8000.0           8000.0   36 months   \n96  68446784        NaN    12000.0      12000.0          12000.0   36 months   \n97  68376533        NaN    18000.0      18000.0          18000.0   36 months   \n98  68476714        NaN     3600.0       3600.0           3600.0   36 months   \n99  66615254        NaN     7200.0       7200.0           7200.0   36 months   \n\n    int_rate  installment grade sub_grade  ... CH_duration     CH2Emp  \\\n0      13.99       123.03     C        C4  ...       148.0  12.000000   \n1      11.99       820.28     C        C1  ...       192.0  16.000000   \n2      10.78       432.66     B        B4  ...       184.0  15.000000   \n3      14.85       829.90     C        C5  ...        87.0   7.000000   \n4      22.45       289.91     F        F1  ...       210.0   6.000000   \n..       ...          ...   ...       ...  ...         ...        ...   \n95     10.78       261.08     B        B4  ...       215.0        inf   \n96     10.78       391.62     B        B4  ...        91.0   2.666667   \n97      7.49       559.83     A        A4  ...       177.0   3.000000   \n98     11.48       118.68     B        B5  ...       260.0        inf   \n99     17.27       257.67     D        D3  ...       152.0   1.444444   \n\n   zip_code_2sign  zip_code_1sign pub_rec_total desc_f emp_title_f title_f  \\\n0              19               1           0.0      0           1       1   \n1              57               5           0.0      0           1       1   \n2              60               6           0.0      0           1       0   \n3              07               0           0.0      0           1       1   \n4              17               1           0.0      0           1       1   \n..            ...             ...           ...    ...         ...     ...   \n95             48               4           0.0      0           1       1   \n96             07               0           0.0      0           1       1   \n97             03               0           0.0      0           1       1   \n98             22               2           2.0      0           1       1   \n99             02               0           0.0      0           1       1   \n\n      inq2CH purpose_disbursement_method  \n0   0.006757     Cash_debt_consolidation  \n1   0.020833         Cash_small_business  \n2   0.000000       Cash_home_improvement  \n3   0.000000     Cash_debt_consolidation  \n4   0.014286         Cash_major_purchase  \n..       ...                         ...  \n95  0.000000     Cash_debt_consolidation  \n96  0.000000            Cash_credit_card  \n97  0.005650     Cash_debt_consolidation  \n98  0.007692     Cash_debt_consolidation  \n99  0.006579     Cash_debt_consolidation  \n\n[100 rows x 168 columns]",
      "text/html": "<div>\n<style scoped>\n    .dataframe tbody tr th:only-of-type {\n        vertical-align: middle;\n    }\n\n    .dataframe tbody tr th {\n        vertical-align: top;\n    }\n\n    .dataframe thead th {\n        text-align: right;\n    }\n</style>\n<table border=\"1\" class=\"dataframe\">\n  <thead>\n    <tr style=\"text-align: right;\">\n      <th></th>\n      <th>id</th>\n      <th>member_id</th>\n      <th>loan_amnt</th>\n      <th>funded_amnt</th>\n      <th>funded_amnt_inv</th>\n      <th>term</th>\n      <th>int_rate</th>\n      <th>installment</th>\n      <th>grade</th>\n      <th>sub_grade</th>\n      <th>...</th>\n      <th>CH_duration</th>\n      <th>CH2Emp</th>\n      <th>zip_code_2sign</th>\n      <th>zip_code_1sign</th>\n      <th>pub_rec_total</th>\n      <th>desc_f</th>\n      <th>emp_title_f</th>\n      <th>title_f</th>\n      <th>inq2CH</th>\n      <th>purpose_disbursement_method</th>\n    </tr>\n  </thead>\n  <tbody>\n    <tr>\n      <th>0</th>\n      <td>68407277</td>\n      <td>NaN</td>\n      <td>3600.0</td>\n      <td>3600.0</td>\n      <td>3600.0</td>\n      <td>36 months</td>\n      <td>13.99</td>\n      <td>123.03</td>\n      <td>C</td>\n      <td>C4</td>\n      <td>...</td>\n      <td>148.0</td>\n      <td>12.000000</td>\n      <td>19</td>\n      <td>1</td>\n      <td>0.0</td>\n      <td>0</td>\n      <td>1</td>\n      <td>1</td>\n      <td>0.006757</td>\n      <td>Cash_debt_consolidation</td>\n    </tr>\n    <tr>\n      <th>1</th>\n      <td>68355089</td>\n      <td>NaN</td>\n      <td>24700.0</td>\n      <td>24700.0</td>\n      <td>24700.0</td>\n      <td>36 months</td>\n      <td>11.99</td>\n      <td>820.28</td>\n      <td>C</td>\n      <td>C1</td>\n      <td>...</td>\n      <td>192.0</td>\n      <td>16.000000</td>\n      <td>57</td>\n      <td>5</td>\n      <td>0.0</td>\n      <td>0</td>\n      <td>1</td>\n      <td>1</td>\n      <td>0.020833</td>\n      <td>Cash_small_business</td>\n    </tr>\n    <tr>\n      <th>2</th>\n      <td>68341763</td>\n      <td>NaN</td>\n      <td>20000.0</td>\n      <td>20000.0</td>\n      <td>20000.0</td>\n      <td>60 months</td>\n      <td>10.78</td>\n      <td>432.66</td>\n      <td>B</td>\n      <td>B4</td>\n      <td>...</td>\n      <td>184.0</td>\n      <td>15.000000</td>\n      <td>60</td>\n      <td>6</td>\n      <td>0.0</td>\n      <td>0</td>\n      <td>1</td>\n      <td>0</td>\n      <td>0.000000</td>\n      <td>Cash_home_improvement</td>\n    </tr>\n    <tr>\n      <th>3</th>\n      <td>66310712</td>\n      <td>NaN</td>\n      <td>35000.0</td>\n      <td>35000.0</td>\n      <td>35000.0</td>\n      <td>60 months</td>\n      <td>14.85</td>\n      <td>829.90</td>\n      <td>C</td>\n      <td>C5</td>\n      <td>...</td>\n      <td>87.0</td>\n      <td>7.000000</td>\n      <td>07</td>\n      <td>0</td>\n      <td>0.0</td>\n      <td>0</td>\n      <td>1</td>\n      <td>1</td>\n      <td>0.000000</td>\n      <td>Cash_debt_consolidation</td>\n    </tr>\n    <tr>\n      <th>4</th>\n      <td>68476807</td>\n      <td>NaN</td>\n      <td>10400.0</td>\n      <td>10400.0</td>\n      <td>10400.0</td>\n      <td>60 months</td>\n      <td>22.45</td>\n      <td>289.91</td>\n      <td>F</td>\n      <td>F1</td>\n      <td>...</td>\n      <td>210.0</td>\n      <td>6.000000</td>\n      <td>17</td>\n      <td>1</td>\n      <td>0.0</td>\n      <td>0</td>\n      <td>1</td>\n      <td>1</td>\n      <td>0.014286</td>\n      <td>Cash_major_purchase</td>\n    </tr>\n    <tr>\n      <th>...</th>\n      <td>...</td>\n      <td>...</td>\n      <td>...</td>\n      <td>...</td>\n      <td>...</td>\n      <td>...</td>\n      <td>...</td>\n      <td>...</td>\n      <td>...</td>\n      <td>...</td>\n      <td>...</td>\n      <td>...</td>\n      <td>...</td>\n      <td>...</td>\n      <td>...</td>\n      <td>...</td>\n      <td>...</td>\n      <td>...</td>\n      <td>...</td>\n      <td>...</td>\n      <td>...</td>\n    </tr>\n    <tr>\n      <th>95</th>\n      <td>68537564</td>\n      <td>NaN</td>\n      <td>8000.0</td>\n      <td>8000.0</td>\n      <td>8000.0</td>\n      <td>36 months</td>\n      <td>10.78</td>\n      <td>261.08</td>\n      <td>B</td>\n      <td>B4</td>\n      <td>...</td>\n      <td>215.0</td>\n      <td>inf</td>\n      <td>48</td>\n      <td>4</td>\n      <td>0.0</td>\n      <td>0</td>\n      <td>1</td>\n      <td>1</td>\n      <td>0.000000</td>\n      <td>Cash_debt_consolidation</td>\n    </tr>\n    <tr>\n      <th>96</th>\n      <td>68446784</td>\n      <td>NaN</td>\n      <td>12000.0</td>\n      <td>12000.0</td>\n      <td>12000.0</td>\n      <td>36 months</td>\n      <td>10.78</td>\n      <td>391.62</td>\n      <td>B</td>\n      <td>B4</td>\n      <td>...</td>\n      <td>91.0</td>\n      <td>2.666667</td>\n      <td>07</td>\n      <td>0</td>\n      <td>0.0</td>\n      <td>0</td>\n      <td>1</td>\n      <td>1</td>\n      <td>0.000000</td>\n      <td>Cash_credit_card</td>\n    </tr>\n    <tr>\n      <th>97</th>\n      <td>68376533</td>\n      <td>NaN</td>\n      <td>18000.0</td>\n      <td>18000.0</td>\n      <td>18000.0</td>\n      <td>36 months</td>\n      <td>7.49</td>\n      <td>559.83</td>\n      <td>A</td>\n      <td>A4</td>\n      <td>...</td>\n      <td>177.0</td>\n      <td>3.000000</td>\n      <td>03</td>\n      <td>0</td>\n      <td>0.0</td>\n      <td>0</td>\n      <td>1</td>\n      <td>1</td>\n      <td>0.005650</td>\n      <td>Cash_debt_consolidation</td>\n    </tr>\n    <tr>\n      <th>98</th>\n      <td>68476714</td>\n      <td>NaN</td>\n      <td>3600.0</td>\n      <td>3600.0</td>\n      <td>3600.0</td>\n      <td>36 months</td>\n      <td>11.48</td>\n      <td>118.68</td>\n      <td>B</td>\n      <td>B5</td>\n      <td>...</td>\n      <td>260.0</td>\n      <td>inf</td>\n      <td>22</td>\n      <td>2</td>\n      <td>2.0</td>\n      <td>0</td>\n      <td>1</td>\n      <td>1</td>\n      <td>0.007692</td>\n      <td>Cash_debt_consolidation</td>\n    </tr>\n    <tr>\n      <th>99</th>\n      <td>66615254</td>\n      <td>NaN</td>\n      <td>7200.0</td>\n      <td>7200.0</td>\n      <td>7200.0</td>\n      <td>36 months</td>\n      <td>17.27</td>\n      <td>257.67</td>\n      <td>D</td>\n      <td>D3</td>\n      <td>...</td>\n      <td>152.0</td>\n      <td>1.444444</td>\n      <td>02</td>\n      <td>0</td>\n      <td>0.0</td>\n      <td>0</td>\n      <td>1</td>\n      <td>1</td>\n      <td>0.006579</td>\n      <td>Cash_debt_consolidation</td>\n    </tr>\n  </tbody>\n</table>\n<p>100 rows × 168 columns</p>\n</div>"
     },
     "execution_count": 13,
     "metadata": {},
     "output_type": "execute_result"
    }
   ],
   "source": [
    "head_df"
   ],
   "metadata": {
    "collapsed": false,
    "pycharm": {
     "name": "#%%\n"
    }
   }
  },
  {
   "cell_type": "code",
   "execution_count": null,
   "outputs": [],
   "source": [],
   "metadata": {
    "collapsed": false,
    "pycharm": {
     "name": "#%%\n"
    }
   }
  }
 ],
 "metadata": {
  "kernelspec": {
   "display_name": "Python 3",
   "language": "python",
   "name": "python3"
  },
  "language_info": {
   "codemirror_mode": {
    "name": "ipython",
    "version": 2
   },
   "file_extension": ".py",
   "mimetype": "text/x-python",
   "name": "python",
   "nbconvert_exporter": "python",
   "pygments_lexer": "ipython2",
   "version": "2.7.6"
  }
 },
 "nbformat": 4,
 "nbformat_minor": 0
}