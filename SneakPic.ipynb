{
 "cells": [
  {
   "cell_type": "code",
   "execution_count": 2,
   "id": "25b8d414",
   "metadata": {
    "pycharm": {
     "name": "#%%\n"
    }
   },
   "outputs": [],
   "source": [
    "import pandas as pd"
   ]
  },
  {
   "cell_type": "code",
   "execution_count": 3,
   "id": "23ca1187",
   "metadata": {
    "pycharm": {
     "name": "#%%\n"
    }
   },
   "outputs": [
    {
     "name": "stderr",
     "output_type": "stream",
     "text": [
      "/var/folders/fd/wgp9jk8x1msd6_yg7qnrxj0r0000gn/T/ipykernel_13743/4215257357.py:1: DtypeWarning: Columns (0,19,49,59,118,129,130,131,134,135,136,139,145,146,147) have mixed types. Specify dtype option on import or set low_memory=False.\n",
      "  df1 = pd.read_csv('data/accepted_2007_to_2018Q4.csv')\n"
     ]
    }
   ],
   "source": [
    "df1 = pd.read_csv('data/accepted_2007_to_2018Q4.csv', )"
   ]
  },
  {
   "cell_type": "code",
   "execution_count": 4,
   "id": "7ae630f9",
   "metadata": {
    "pycharm": {
     "name": "#%%\n"
    }
   },
   "outputs": [
    {
     "data": {
      "text/plain": "(2260701, 151)"
     },
     "execution_count": 4,
     "metadata": {},
     "output_type": "execute_result"
    }
   ],
   "source": [
    "df1.shape"
   ]
  },
  {
   "cell_type": "code",
   "execution_count": 5,
   "id": "cdc7e3fa",
   "metadata": {
    "pycharm": {
     "name": "#%%\n"
    }
   },
   "outputs": [],
   "source": [
    "df2 = pd.read_csv('data/rejected_2007_to_2018Q4.csv')"
   ]
  },
  {
   "cell_type": "code",
   "execution_count": 6,
   "id": "37373ce1",
   "metadata": {
    "pycharm": {
     "name": "#%%\n"
    }
   },
   "outputs": [
    {
     "data": {
      "text/plain": "   Amount Requested Application Date                        Loan Title  \\\n0            1000.0       2007-05-26  Wedding Covered but No Honeymoon   \n1            1000.0       2007-05-26                Consolidating Debt   \n2           11000.0       2007-05-27       Want to consolidate my debt   \n3            6000.0       2007-05-27                           waksman   \n4            1500.0       2007-05-27                            mdrigo   \n\n   Risk_Score Debt-To-Income Ratio Zip Code State Employment Length  \\\n0       693.0                  10%    481xx    NM           4 years   \n1       703.0                  10%    010xx    MA          < 1 year   \n2       715.0                  10%    212xx    MD            1 year   \n3       698.0               38.64%    017xx    MA          < 1 year   \n4       509.0                9.43%    209xx    MD          < 1 year   \n\n   Policy Code  \n0          0.0  \n1          0.0  \n2          0.0  \n3          0.0  \n4          0.0  ",
      "text/html": "<div>\n<style scoped>\n    .dataframe tbody tr th:only-of-type {\n        vertical-align: middle;\n    }\n\n    .dataframe tbody tr th {\n        vertical-align: top;\n    }\n\n    .dataframe thead th {\n        text-align: right;\n    }\n</style>\n<table border=\"1\" class=\"dataframe\">\n  <thead>\n    <tr style=\"text-align: right;\">\n      <th></th>\n      <th>Amount Requested</th>\n      <th>Application Date</th>\n      <th>Loan Title</th>\n      <th>Risk_Score</th>\n      <th>Debt-To-Income Ratio</th>\n      <th>Zip Code</th>\n      <th>State</th>\n      <th>Employment Length</th>\n      <th>Policy Code</th>\n    </tr>\n  </thead>\n  <tbody>\n    <tr>\n      <th>0</th>\n      <td>1000.0</td>\n      <td>2007-05-26</td>\n      <td>Wedding Covered but No Honeymoon</td>\n      <td>693.0</td>\n      <td>10%</td>\n      <td>481xx</td>\n      <td>NM</td>\n      <td>4 years</td>\n      <td>0.0</td>\n    </tr>\n    <tr>\n      <th>1</th>\n      <td>1000.0</td>\n      <td>2007-05-26</td>\n      <td>Consolidating Debt</td>\n      <td>703.0</td>\n      <td>10%</td>\n      <td>010xx</td>\n      <td>MA</td>\n      <td>&lt; 1 year</td>\n      <td>0.0</td>\n    </tr>\n    <tr>\n      <th>2</th>\n      <td>11000.0</td>\n      <td>2007-05-27</td>\n      <td>Want to consolidate my debt</td>\n      <td>715.0</td>\n      <td>10%</td>\n      <td>212xx</td>\n      <td>MD</td>\n      <td>1 year</td>\n      <td>0.0</td>\n    </tr>\n    <tr>\n      <th>3</th>\n      <td>6000.0</td>\n      <td>2007-05-27</td>\n      <td>waksman</td>\n      <td>698.0</td>\n      <td>38.64%</td>\n      <td>017xx</td>\n      <td>MA</td>\n      <td>&lt; 1 year</td>\n      <td>0.0</td>\n    </tr>\n    <tr>\n      <th>4</th>\n      <td>1500.0</td>\n      <td>2007-05-27</td>\n      <td>mdrigo</td>\n      <td>509.0</td>\n      <td>9.43%</td>\n      <td>209xx</td>\n      <td>MD</td>\n      <td>&lt; 1 year</td>\n      <td>0.0</td>\n    </tr>\n  </tbody>\n</table>\n</div>"
     },
     "execution_count": 6,
     "metadata": {},
     "output_type": "execute_result"
    }
   ],
   "source": [
    "df2.head()"
   ]
  },
  {
   "cell_type": "code",
   "execution_count": 7,
   "id": "a9bf5bcf",
   "metadata": {
    "pycharm": {
     "name": "#%%\n"
    }
   },
   "outputs": [],
   "source": [
    "df = df1[['issue_d','addr_state','application_type','loan_amnt','zip_code','settlement_amount','term','int_rate','sub_grade','emp_length','emp_title','home_ownership', 'annual_inc','dti_joint','mths_since_recent_inq', 'revol_util', 'bc_open_to_buy','verification_status','purpose','title','open_acc','bc_util','total_acc','num_op_rev_tl','dti','dti_joint','loan_status']]"
   ]
  },
  {
   "cell_type": "code",
   "execution_count": 34,
   "id": "98c71d71",
   "metadata": {
    "pycharm": {
     "name": "#%%\n"
    }
   },
   "outputs": [
    {
     "name": "stdout",
     "output_type": "stream",
     "text": [
      "<class 'pandas.core.frame.DataFrame'>\n",
      "RangeIndex: 2260701 entries, 0 to 2260700\n",
      "Data columns (total 27 columns):\n",
      " #   Column                 Dtype  \n",
      "---  ------                 -----  \n",
      " 0   issue_d                object \n",
      " 1   addr_state             object \n",
      " 2   application_type       object \n",
      " 3   loan_amnt              float64\n",
      " 4   zip_code               object \n",
      " 5   settlement_amount      float64\n",
      " 6   term                   object \n",
      " 7   int_rate               float64\n",
      " 8   sub_grade              object \n",
      " 9   emp_length             object \n",
      " 10  emp_title              object \n",
      " 11  home_ownership         object \n",
      " 12  annual_inc             float64\n",
      " 13  dti_joint              float64\n",
      " 14  mths_since_recent_inq  float64\n",
      " 15  revol_util             float64\n",
      " 16  bc_open_to_buy         float64\n",
      " 17  verification_status    object \n",
      " 18  purpose                object \n",
      " 19  title                  object \n",
      " 20  open_acc               float64\n",
      " 21  bc_util                float64\n",
      " 22  total_acc              float64\n",
      " 23  num_op_rev_tl          float64\n",
      " 24  dti                    float64\n",
      " 25  dti_joint              float64\n",
      " 26  loan_status            object \n",
      "dtypes: float64(14), object(13)\n",
      "memory usage: 465.7+ MB\n"
     ]
    }
   ],
   "source": [
    "df.info()"
   ]
  },
  {
   "cell_type": "code",
   "execution_count": 8,
   "outputs": [
    {
     "data": {
      "text/plain": "          issue_d addr_state application_type  loan_amnt zip_code  \\\n0        Dec-2015         PA       Individual     3600.0    190xx   \n1        Dec-2015         SD       Individual    24700.0    577xx   \n2        Dec-2015         IL        Joint App    20000.0    605xx   \n3        Dec-2015         NJ       Individual    35000.0    076xx   \n4        Dec-2015         PA       Individual    10400.0    174xx   \n...           ...        ...              ...        ...      ...   \n2260696  Oct-2016         CA       Individual    40000.0    907xx   \n2260697  Oct-2016         FL       Individual    24000.0    334xx   \n2260698  Oct-2016         TX       Individual    14000.0    770xx   \n2260699       NaN        NaN              NaN        NaN      NaN   \n2260700       NaN        NaN              NaN        NaN      NaN   \n\n         settlement_amount        term  int_rate sub_grade emp_length  ...  \\\n0                      NaN   36 months     13.99        C4  10+ years  ...   \n1                      NaN   36 months     11.99        C1  10+ years  ...   \n2                      NaN   60 months     10.78        B4  10+ years  ...   \n3                      NaN   60 months     14.85        C5  10+ years  ...   \n4                      NaN   60 months     22.45        F1    3 years  ...   \n...                    ...         ...       ...       ...        ...  ...   \n2260696                NaN   60 months     10.49        B3    9 years  ...   \n2260697            10000.0   60 months     14.49        C4    6 years  ...   \n2260698                NaN   60 months     14.49        C4  10+ years  ...   \n2260699                NaN         NaN       NaN       NaN        NaN  ...   \n2260700                NaN         NaN       NaN       NaN        NaN  ...   \n\n        verification_status             purpose               title  open_acc  \\\n0              Not Verified  debt_consolidation  Debt consolidation       7.0   \n1              Not Verified      small_business            Business      22.0   \n2              Not Verified    home_improvement                 NaN       6.0   \n3           Source Verified  debt_consolidation  Debt consolidation      13.0   \n4           Source Verified      major_purchase      Major purchase      12.0   \n...                     ...                 ...                 ...       ...   \n2260696            Verified  debt_consolidation                 NaN       5.0   \n2260697        Not Verified  debt_consolidation  Debt consolidation      10.0   \n2260698            Verified  debt_consolidation                 NaN       8.0   \n2260699                 NaN                 NaN                 NaN       NaN   \n2260700                 NaN                 NaN                 NaN       NaN   \n\n         bc_util  total_acc  num_op_rev_tl    dti dti_joint  loan_status  \n0           37.2       13.0            4.0   5.91       NaN   Fully Paid  \n1           27.1       38.0           20.0  16.06       NaN   Fully Paid  \n2           55.9       18.0            4.0  10.78     13.85   Fully Paid  \n3           12.1       17.0           10.0  17.06       NaN      Current  \n4           77.5       35.0            7.0  25.37       NaN   Fully Paid  \n...          ...        ...            ...    ...       ...          ...  \n2260696     66.9       37.0            3.0  12.75       NaN      Current  \n2260697     77.5       31.0            8.0  18.30       NaN  Charged Off  \n2260698     80.7       22.0            5.0  23.36       NaN      Current  \n2260699      NaN        NaN            NaN    NaN       NaN          NaN  \n2260700      NaN        NaN            NaN    NaN       NaN          NaN  \n\n[2260701 rows x 27 columns]",
      "text/html": "<div>\n<style scoped>\n    .dataframe tbody tr th:only-of-type {\n        vertical-align: middle;\n    }\n\n    .dataframe tbody tr th {\n        vertical-align: top;\n    }\n\n    .dataframe thead th {\n        text-align: right;\n    }\n</style>\n<table border=\"1\" class=\"dataframe\">\n  <thead>\n    <tr style=\"text-align: right;\">\n      <th></th>\n      <th>issue_d</th>\n      <th>addr_state</th>\n      <th>application_type</th>\n      <th>loan_amnt</th>\n      <th>zip_code</th>\n      <th>settlement_amount</th>\n      <th>term</th>\n      <th>int_rate</th>\n      <th>sub_grade</th>\n      <th>emp_length</th>\n      <th>...</th>\n      <th>verification_status</th>\n      <th>purpose</th>\n      <th>title</th>\n      <th>open_acc</th>\n      <th>bc_util</th>\n      <th>total_acc</th>\n      <th>num_op_rev_tl</th>\n      <th>dti</th>\n      <th>dti_joint</th>\n      <th>loan_status</th>\n    </tr>\n  </thead>\n  <tbody>\n    <tr>\n      <th>0</th>\n      <td>Dec-2015</td>\n      <td>PA</td>\n      <td>Individual</td>\n      <td>3600.0</td>\n      <td>190xx</td>\n      <td>NaN</td>\n      <td>36 months</td>\n      <td>13.99</td>\n      <td>C4</td>\n      <td>10+ years</td>\n      <td>...</td>\n      <td>Not Verified</td>\n      <td>debt_consolidation</td>\n      <td>Debt consolidation</td>\n      <td>7.0</td>\n      <td>37.2</td>\n      <td>13.0</td>\n      <td>4.0</td>\n      <td>5.91</td>\n      <td>NaN</td>\n      <td>Fully Paid</td>\n    </tr>\n    <tr>\n      <th>1</th>\n      <td>Dec-2015</td>\n      <td>SD</td>\n      <td>Individual</td>\n      <td>24700.0</td>\n      <td>577xx</td>\n      <td>NaN</td>\n      <td>36 months</td>\n      <td>11.99</td>\n      <td>C1</td>\n      <td>10+ years</td>\n      <td>...</td>\n      <td>Not Verified</td>\n      <td>small_business</td>\n      <td>Business</td>\n      <td>22.0</td>\n      <td>27.1</td>\n      <td>38.0</td>\n      <td>20.0</td>\n      <td>16.06</td>\n      <td>NaN</td>\n      <td>Fully Paid</td>\n    </tr>\n    <tr>\n      <th>2</th>\n      <td>Dec-2015</td>\n      <td>IL</td>\n      <td>Joint App</td>\n      <td>20000.0</td>\n      <td>605xx</td>\n      <td>NaN</td>\n      <td>60 months</td>\n      <td>10.78</td>\n      <td>B4</td>\n      <td>10+ years</td>\n      <td>...</td>\n      <td>Not Verified</td>\n      <td>home_improvement</td>\n      <td>NaN</td>\n      <td>6.0</td>\n      <td>55.9</td>\n      <td>18.0</td>\n      <td>4.0</td>\n      <td>10.78</td>\n      <td>13.85</td>\n      <td>Fully Paid</td>\n    </tr>\n    <tr>\n      <th>3</th>\n      <td>Dec-2015</td>\n      <td>NJ</td>\n      <td>Individual</td>\n      <td>35000.0</td>\n      <td>076xx</td>\n      <td>NaN</td>\n      <td>60 months</td>\n      <td>14.85</td>\n      <td>C5</td>\n      <td>10+ years</td>\n      <td>...</td>\n      <td>Source Verified</td>\n      <td>debt_consolidation</td>\n      <td>Debt consolidation</td>\n      <td>13.0</td>\n      <td>12.1</td>\n      <td>17.0</td>\n      <td>10.0</td>\n      <td>17.06</td>\n      <td>NaN</td>\n      <td>Current</td>\n    </tr>\n    <tr>\n      <th>4</th>\n      <td>Dec-2015</td>\n      <td>PA</td>\n      <td>Individual</td>\n      <td>10400.0</td>\n      <td>174xx</td>\n      <td>NaN</td>\n      <td>60 months</td>\n      <td>22.45</td>\n      <td>F1</td>\n      <td>3 years</td>\n      <td>...</td>\n      <td>Source Verified</td>\n      <td>major_purchase</td>\n      <td>Major purchase</td>\n      <td>12.0</td>\n      <td>77.5</td>\n      <td>35.0</td>\n      <td>7.0</td>\n      <td>25.37</td>\n      <td>NaN</td>\n      <td>Fully Paid</td>\n    </tr>\n    <tr>\n      <th>...</th>\n      <td>...</td>\n      <td>...</td>\n      <td>...</td>\n      <td>...</td>\n      <td>...</td>\n      <td>...</td>\n      <td>...</td>\n      <td>...</td>\n      <td>...</td>\n      <td>...</td>\n      <td>...</td>\n      <td>...</td>\n      <td>...</td>\n      <td>...</td>\n      <td>...</td>\n      <td>...</td>\n      <td>...</td>\n      <td>...</td>\n      <td>...</td>\n      <td>...</td>\n      <td>...</td>\n    </tr>\n    <tr>\n      <th>2260696</th>\n      <td>Oct-2016</td>\n      <td>CA</td>\n      <td>Individual</td>\n      <td>40000.0</td>\n      <td>907xx</td>\n      <td>NaN</td>\n      <td>60 months</td>\n      <td>10.49</td>\n      <td>B3</td>\n      <td>9 years</td>\n      <td>...</td>\n      <td>Verified</td>\n      <td>debt_consolidation</td>\n      <td>NaN</td>\n      <td>5.0</td>\n      <td>66.9</td>\n      <td>37.0</td>\n      <td>3.0</td>\n      <td>12.75</td>\n      <td>NaN</td>\n      <td>Current</td>\n    </tr>\n    <tr>\n      <th>2260697</th>\n      <td>Oct-2016</td>\n      <td>FL</td>\n      <td>Individual</td>\n      <td>24000.0</td>\n      <td>334xx</td>\n      <td>10000.0</td>\n      <td>60 months</td>\n      <td>14.49</td>\n      <td>C4</td>\n      <td>6 years</td>\n      <td>...</td>\n      <td>Not Verified</td>\n      <td>debt_consolidation</td>\n      <td>Debt consolidation</td>\n      <td>10.0</td>\n      <td>77.5</td>\n      <td>31.0</td>\n      <td>8.0</td>\n      <td>18.30</td>\n      <td>NaN</td>\n      <td>Charged Off</td>\n    </tr>\n    <tr>\n      <th>2260698</th>\n      <td>Oct-2016</td>\n      <td>TX</td>\n      <td>Individual</td>\n      <td>14000.0</td>\n      <td>770xx</td>\n      <td>NaN</td>\n      <td>60 months</td>\n      <td>14.49</td>\n      <td>C4</td>\n      <td>10+ years</td>\n      <td>...</td>\n      <td>Verified</td>\n      <td>debt_consolidation</td>\n      <td>NaN</td>\n      <td>8.0</td>\n      <td>80.7</td>\n      <td>22.0</td>\n      <td>5.0</td>\n      <td>23.36</td>\n      <td>NaN</td>\n      <td>Current</td>\n    </tr>\n    <tr>\n      <th>2260699</th>\n      <td>NaN</td>\n      <td>NaN</td>\n      <td>NaN</td>\n      <td>NaN</td>\n      <td>NaN</td>\n      <td>NaN</td>\n      <td>NaN</td>\n      <td>NaN</td>\n      <td>NaN</td>\n      <td>NaN</td>\n      <td>...</td>\n      <td>NaN</td>\n      <td>NaN</td>\n      <td>NaN</td>\n      <td>NaN</td>\n      <td>NaN</td>\n      <td>NaN</td>\n      <td>NaN</td>\n      <td>NaN</td>\n      <td>NaN</td>\n      <td>NaN</td>\n    </tr>\n    <tr>\n      <th>2260700</th>\n      <td>NaN</td>\n      <td>NaN</td>\n      <td>NaN</td>\n      <td>NaN</td>\n      <td>NaN</td>\n      <td>NaN</td>\n      <td>NaN</td>\n      <td>NaN</td>\n      <td>NaN</td>\n      <td>NaN</td>\n      <td>...</td>\n      <td>NaN</td>\n      <td>NaN</td>\n      <td>NaN</td>\n      <td>NaN</td>\n      <td>NaN</td>\n      <td>NaN</td>\n      <td>NaN</td>\n      <td>NaN</td>\n      <td>NaN</td>\n      <td>NaN</td>\n    </tr>\n  </tbody>\n</table>\n<p>2260701 rows × 27 columns</p>\n</div>"
     },
     "execution_count": 8,
     "metadata": {},
     "output_type": "execute_result"
    }
   ],
   "source": [
    "df"
   ],
   "metadata": {
    "collapsed": false,
    "pycharm": {
     "name": "#%%\n"
    }
   }
  },
  {
   "cell_type": "code",
   "execution_count": null,
   "outputs": [],
   "source": [],
   "metadata": {
    "collapsed": false,
    "pycharm": {
     "name": "#%%\n"
    }
   }
  }
 ],
 "metadata": {
  "kernelspec": {
   "display_name": "Python 3 (ipykernel)",
   "language": "python",
   "name": "python3"
  },
  "language_info": {
   "codemirror_mode": {
    "name": "ipython",
    "version": 3
   },
   "file_extension": ".py",
   "mimetype": "text/x-python",
   "name": "python",
   "nbconvert_exporter": "python",
   "pygments_lexer": "ipython3",
   "version": "3.9.7"
  }
 },
 "nbformat": 4,
 "nbformat_minor": 5
}